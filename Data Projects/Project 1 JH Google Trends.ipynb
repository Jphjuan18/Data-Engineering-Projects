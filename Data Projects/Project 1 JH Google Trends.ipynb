{
 "cells": [
  {
   "cell_type": "code",
   "execution_count": 1,
   "id": "ad938297",
   "metadata": {
    "scrolled": true
   },
   "outputs": [
    {
     "name": "stdout",
     "output_type": "stream",
     "text": [
      "Collecting package metadata (current_repodata.json): done\n",
      "Solving environment: done\n",
      "\n",
      "# All requested packages already installed.\n",
      "\n"
     ]
    }
   ],
   "source": [
    "#!conda install -c conda-forge pandas pandas-profiling matplotlib openpyxl -y"
   ]
  },
  {
   "cell_type": "code",
   "execution_count": 2,
   "id": "337d0904",
   "metadata": {
    "scrolled": true
   },
   "outputs": [],
   "source": [
    "#pip install pandas-profiling"
   ]
  },
  {
   "cell_type": "code",
   "execution_count": 1,
   "id": "d14b6262",
   "metadata": {},
   "outputs": [],
   "source": [
    "import pandas as pd\n",
    "from pandas_profiling import ProfileReport\n",
    "import matplotlib.pyplot as plt"
   ]
  },
  {
   "cell_type": "code",
   "execution_count": 20,
   "id": "61b9b887",
   "metadata": {},
   "outputs": [],
   "source": [
    "df = pd.read_csv('google_trends.csv',header = 1)"
   ]
  },
  {
   "cell_type": "code",
   "execution_count": 21,
   "id": "f1c5d8c9",
   "metadata": {},
   "outputs": [
    {
     "data": {
      "application/vnd.jupyter.widget-view+json": {
       "model_id": "c35e651490244ea2b25d1191fd3dfa9d",
       "version_major": 2,
       "version_minor": 0
      },
      "text/plain": [
       "Summarize dataset:   0%|          | 0/19 [00:00<?, ?it/s]"
      ]
     },
     "metadata": {},
     "output_type": "display_data"
    },
    {
     "data": {
      "application/vnd.jupyter.widget-view+json": {
       "model_id": "c932c13c2c2e421fb2e65152eb97c79c",
       "version_major": 2,
       "version_minor": 0
      },
      "text/plain": [
       "Generate report structure:   0%|          | 0/1 [00:00<?, ?it/s]"
      ]
     },
     "metadata": {},
     "output_type": "display_data"
    },
    {
     "data": {
      "application/vnd.jupyter.widget-view+json": {
       "model_id": "caaffebbe102479d819d0984aa275fdf",
       "version_major": 2,
       "version_minor": 0
      },
      "text/plain": [
       "Render HTML:   0%|          | 0/1 [00:00<?, ?it/s]"
      ]
     },
     "metadata": {},
     "output_type": "display_data"
    },
    {
     "data": {
      "application/vnd.jupyter.widget-view+json": {
       "model_id": "d883057a18174d99970d606a0e87074c",
       "version_major": 2,
       "version_minor": 0
      },
      "text/plain": [
       "Export report to file:   0%|          | 0/1 [00:00<?, ?it/s]"
      ]
     },
     "metadata": {},
     "output_type": "display_data"
    }
   ],
   "source": [
    "report = ProfileReport(df)\n",
    "report.to_file('google_trends.html')"
   ]
  },
  {
   "cell_type": "code",
   "execution_count": 19,
   "id": "a04e31e6",
   "metadata": {},
   "outputs": [
    {
     "data": {
      "text/html": [
       "<div>\n",
       "<style scoped>\n",
       "    .dataframe tbody tr th:only-of-type {\n",
       "        vertical-align: middle;\n",
       "    }\n",
       "\n",
       "    .dataframe tbody tr th {\n",
       "        vertical-align: top;\n",
       "    }\n",
       "\n",
       "    .dataframe thead th {\n",
       "        text-align: right;\n",
       "    }\n",
       "</style>\n",
       "<table border=\"1\" class=\"dataframe\">\n",
       "  <thead>\n",
       "    <tr style=\"text-align: right;\">\n",
       "      <th></th>\n",
       "      <th>Week</th>\n",
       "      <th>Coinbase: (United States)</th>\n",
       "      <th>Bitcoin: (United States)</th>\n",
       "      <th>Cryptocurrency: (United States)</th>\n",
       "      <th>Ethereum: (United States)</th>\n",
       "      <th>Cardano: (United States)</th>\n",
       "    </tr>\n",
       "  </thead>\n",
       "  <tbody>\n",
       "    <tr>\n",
       "      <th>0</th>\n",
       "      <td>2016-09-18</td>\n",
       "      <td>&lt;1</td>\n",
       "      <td>2</td>\n",
       "      <td>&lt;1</td>\n",
       "      <td>&lt;1</td>\n",
       "      <td>0</td>\n",
       "    </tr>\n",
       "    <tr>\n",
       "      <th>1</th>\n",
       "      <td>2016-09-25</td>\n",
       "      <td>&lt;1</td>\n",
       "      <td>2</td>\n",
       "      <td>&lt;1</td>\n",
       "      <td>&lt;1</td>\n",
       "      <td>0</td>\n",
       "    </tr>\n",
       "    <tr>\n",
       "      <th>2</th>\n",
       "      <td>2016-10-02</td>\n",
       "      <td>&lt;1</td>\n",
       "      <td>2</td>\n",
       "      <td>&lt;1</td>\n",
       "      <td>&lt;1</td>\n",
       "      <td>&lt;1</td>\n",
       "    </tr>\n",
       "    <tr>\n",
       "      <th>3</th>\n",
       "      <td>2016-10-09</td>\n",
       "      <td>&lt;1</td>\n",
       "      <td>2</td>\n",
       "      <td>&lt;1</td>\n",
       "      <td>&lt;1</td>\n",
       "      <td>0</td>\n",
       "    </tr>\n",
       "    <tr>\n",
       "      <th>4</th>\n",
       "      <td>2016-10-16</td>\n",
       "      <td>&lt;1</td>\n",
       "      <td>2</td>\n",
       "      <td>&lt;1</td>\n",
       "      <td>&lt;1</td>\n",
       "      <td>0</td>\n",
       "    </tr>\n",
       "    <tr>\n",
       "      <th>...</th>\n",
       "      <td>...</td>\n",
       "      <td>...</td>\n",
       "      <td>...</td>\n",
       "      <td>...</td>\n",
       "      <td>...</td>\n",
       "      <td>...</td>\n",
       "    </tr>\n",
       "    <tr>\n",
       "      <th>256</th>\n",
       "      <td>2021-08-15</td>\n",
       "      <td>3</td>\n",
       "      <td>14</td>\n",
       "      <td>8</td>\n",
       "      <td>6</td>\n",
       "      <td>2</td>\n",
       "    </tr>\n",
       "    <tr>\n",
       "      <th>257</th>\n",
       "      <td>2021-08-22</td>\n",
       "      <td>3</td>\n",
       "      <td>13</td>\n",
       "      <td>8</td>\n",
       "      <td>5</td>\n",
       "      <td>3</td>\n",
       "    </tr>\n",
       "    <tr>\n",
       "      <th>258</th>\n",
       "      <td>2021-08-29</td>\n",
       "      <td>3</td>\n",
       "      <td>13</td>\n",
       "      <td>9</td>\n",
       "      <td>7</td>\n",
       "      <td>3</td>\n",
       "    </tr>\n",
       "    <tr>\n",
       "      <th>259</th>\n",
       "      <td>2021-09-05</td>\n",
       "      <td>4</td>\n",
       "      <td>18</td>\n",
       "      <td>10</td>\n",
       "      <td>7</td>\n",
       "      <td>2</td>\n",
       "    </tr>\n",
       "    <tr>\n",
       "      <th>260</th>\n",
       "      <td>2021-09-12</td>\n",
       "      <td>3</td>\n",
       "      <td>13</td>\n",
       "      <td>8</td>\n",
       "      <td>4</td>\n",
       "      <td>3</td>\n",
       "    </tr>\n",
       "  </tbody>\n",
       "</table>\n",
       "<p>261 rows × 6 columns</p>\n",
       "</div>"
      ],
      "text/plain": [
       "           Week Coinbase: (United States)  Bitcoin: (United States)  \\\n",
       "0    2016-09-18                        <1                         2   \n",
       "1    2016-09-25                        <1                         2   \n",
       "2    2016-10-02                        <1                         2   \n",
       "3    2016-10-09                        <1                         2   \n",
       "4    2016-10-16                        <1                         2   \n",
       "..          ...                       ...                       ...   \n",
       "256  2021-08-15                         3                        14   \n",
       "257  2021-08-22                         3                        13   \n",
       "258  2021-08-29                         3                        13   \n",
       "259  2021-09-05                         4                        18   \n",
       "260  2021-09-12                         3                        13   \n",
       "\n",
       "    Cryptocurrency: (United States) Ethereum: (United States)  \\\n",
       "0                                <1                        <1   \n",
       "1                                <1                        <1   \n",
       "2                                <1                        <1   \n",
       "3                                <1                        <1   \n",
       "4                                <1                        <1   \n",
       "..                              ...                       ...   \n",
       "256                               8                         6   \n",
       "257                               8                         5   \n",
       "258                               9                         7   \n",
       "259                              10                         7   \n",
       "260                               8                         4   \n",
       "\n",
       "    Cardano: (United States)  \n",
       "0                          0  \n",
       "1                          0  \n",
       "2                         <1  \n",
       "3                          0  \n",
       "4                          0  \n",
       "..                       ...  \n",
       "256                        2  \n",
       "257                        3  \n",
       "258                        3  \n",
       "259                        2  \n",
       "260                        3  \n",
       "\n",
       "[261 rows x 6 columns]"
      ]
     },
     "execution_count": 19,
     "metadata": {},
     "output_type": "execute_result"
    }
   ],
   "source": [
    "df"
   ]
  },
  {
   "cell_type": "code",
   "execution_count": 12,
   "id": "008ddd41",
   "metadata": {},
   "outputs": [
    {
     "name": "stdout",
     "output_type": "stream",
     "text": [
      "<class 'pandas.core.frame.DataFrame'>\n",
      "RangeIndex: 261 entries, 0 to 260\n",
      "Data columns (total 6 columns):\n",
      " #   Column                              Non-Null Count  Dtype \n",
      "---  ------                              --------------  ----- \n",
      " 0   Week                                261 non-null    object\n",
      " 1   Smart contract: (Worldwide)         261 non-null    object\n",
      " 2   Bitcoin: (Worldwide)                261 non-null    int64 \n",
      " 3   Non-fungible token: (Worldwide)     261 non-null    object\n",
      " 4   Ethereum: (Worldwide)               261 non-null    object\n",
      " 5   Solana cryptocurrency: (Worldwide)  261 non-null    object\n",
      "dtypes: int64(1), object(5)\n",
      "memory usage: 12.4+ KB\n"
     ]
    }
   ],
   "source": [
    "df.info()"
   ]
  },
  {
   "cell_type": "code",
   "execution_count": 13,
   "id": "32d72b1f",
   "metadata": {},
   "outputs": [],
   "source": [
    "df.rename(columns = {'a':'Smart'}, inplace = True)"
   ]
  },
  {
   "cell_type": "code",
   "execution_count": 8,
   "id": "5b14ce79",
   "metadata": {},
   "outputs": [
    {
     "data": {
      "text/html": [
       "<div>\n",
       "<style scoped>\n",
       "    .dataframe tbody tr th:only-of-type {\n",
       "        vertical-align: middle;\n",
       "    }\n",
       "\n",
       "    .dataframe tbody tr th {\n",
       "        vertical-align: top;\n",
       "    }\n",
       "\n",
       "    .dataframe thead th {\n",
       "        text-align: right;\n",
       "    }\n",
       "</style>\n",
       "<table border=\"1\" class=\"dataframe\">\n",
       "  <thead>\n",
       "    <tr style=\"text-align: right;\">\n",
       "      <th></th>\n",
       "      <th></th>\n",
       "      <th></th>\n",
       "      <th></th>\n",
       "      <th></th>\n",
       "      <th>Category: All categories</th>\n",
       "    </tr>\n",
       "  </thead>\n",
       "  <tbody>\n",
       "    <tr>\n",
       "      <th>Week</th>\n",
       "      <th>Smart contract: (Worldwide)</th>\n",
       "      <th>Bitcoin: (Worldwide)</th>\n",
       "      <th>Non-fungible token: (Worldwide)</th>\n",
       "      <th>Ethereum: (Worldwide)</th>\n",
       "      <td>Solana cryptocurrency: (Worldwide)</td>\n",
       "    </tr>\n",
       "    <tr>\n",
       "      <th>2016-09-18</th>\n",
       "      <th>&lt;1</th>\n",
       "      <th>3</th>\n",
       "      <th>&lt;1</th>\n",
       "      <th>&lt;1</th>\n",
       "      <td>0</td>\n",
       "    </tr>\n",
       "    <tr>\n",
       "      <th>2016-09-25</th>\n",
       "      <th>&lt;1</th>\n",
       "      <th>3</th>\n",
       "      <th>&lt;1</th>\n",
       "      <th>&lt;1</th>\n",
       "      <td>0</td>\n",
       "    </tr>\n",
       "    <tr>\n",
       "      <th>2016-10-02</th>\n",
       "      <th>&lt;1</th>\n",
       "      <th>3</th>\n",
       "      <th>&lt;1</th>\n",
       "      <th>&lt;1</th>\n",
       "      <td>0</td>\n",
       "    </tr>\n",
       "    <tr>\n",
       "      <th>2016-10-09</th>\n",
       "      <th>&lt;1</th>\n",
       "      <th>3</th>\n",
       "      <th>&lt;1</th>\n",
       "      <th>&lt;1</th>\n",
       "      <td>0</td>\n",
       "    </tr>\n",
       "    <tr>\n",
       "      <th>...</th>\n",
       "      <th>...</th>\n",
       "      <th>...</th>\n",
       "      <th>...</th>\n",
       "      <th>...</th>\n",
       "      <td>...</td>\n",
       "    </tr>\n",
       "    <tr>\n",
       "      <th>2021-08-15</th>\n",
       "      <th>&lt;1</th>\n",
       "      <th>26</th>\n",
       "      <th>1</th>\n",
       "      <th>8</th>\n",
       "      <td>&lt;1</td>\n",
       "    </tr>\n",
       "    <tr>\n",
       "      <th>2021-08-22</th>\n",
       "      <th>&lt;1</th>\n",
       "      <th>27</th>\n",
       "      <th>2</th>\n",
       "      <th>7</th>\n",
       "      <td>&lt;1</td>\n",
       "    </tr>\n",
       "    <tr>\n",
       "      <th>2021-08-29</th>\n",
       "      <th>&lt;1</th>\n",
       "      <th>23</th>\n",
       "      <th>3</th>\n",
       "      <th>9</th>\n",
       "      <td>&lt;1</td>\n",
       "    </tr>\n",
       "    <tr>\n",
       "      <th>2021-09-05</th>\n",
       "      <th>&lt;1</th>\n",
       "      <th>30</th>\n",
       "      <th>2</th>\n",
       "      <th>9</th>\n",
       "      <td>&lt;1</td>\n",
       "    </tr>\n",
       "    <tr>\n",
       "      <th>2021-09-12</th>\n",
       "      <th>&lt;1</th>\n",
       "      <th>24</th>\n",
       "      <th>2</th>\n",
       "      <th>6</th>\n",
       "      <td>&lt;1</td>\n",
       "    </tr>\n",
       "  </tbody>\n",
       "</table>\n",
       "<p>262 rows × 1 columns</p>\n",
       "</div>"
      ],
      "text/plain": [
       "                                                                                                                             Category: All categories\n",
       "Week       Smart contract: (Worldwide) Bitcoin: (Worldwide) Non-fungible token: (Worldwide) Ethereum: (Worldwide)  Solana cryptocurrency: (Worldwide)\n",
       "2016-09-18 <1                          3                    <1                              <1                                                      0\n",
       "2016-09-25 <1                          3                    <1                              <1                                                      0\n",
       "2016-10-02 <1                          3                    <1                              <1                                                      0\n",
       "2016-10-09 <1                          3                    <1                              <1                                                      0\n",
       "...                                                                                                                                               ...\n",
       "2021-08-15 <1                          26                   1                               8                                                      <1\n",
       "2021-08-22 <1                          27                   2                               7                                                      <1\n",
       "2021-08-29 <1                          23                   3                               9                                                      <1\n",
       "2021-09-05 <1                          30                   2                               9                                                      <1\n",
       "2021-09-12 <1                          24                   2                               6                                                      <1\n",
       "\n",
       "[262 rows x 1 columns]"
      ]
     },
     "execution_count": 8,
     "metadata": {},
     "output_type": "execute_result"
    }
   ],
   "source": [
    "df"
   ]
  },
  {
   "cell_type": "code",
   "execution_count": null,
   "id": "e815e591",
   "metadata": {},
   "outputs": [],
   "source": []
  }
 ],
 "metadata": {
  "kernelspec": {
   "display_name": "Python 3",
   "language": "python",
   "name": "python3"
  },
  "language_info": {
   "codemirror_mode": {
    "name": "ipython",
    "version": 3
   },
   "file_extension": ".py",
   "mimetype": "text/x-python",
   "name": "python",
   "nbconvert_exporter": "python",
   "pygments_lexer": "ipython3",
   "version": "3.8.8"
  }
 },
 "nbformat": 4,
 "nbformat_minor": 5
}
