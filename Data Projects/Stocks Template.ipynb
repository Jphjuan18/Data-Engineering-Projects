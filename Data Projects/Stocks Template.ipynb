{
 "cells": [
  {
   "cell_type": "code",
   "execution_count": 1,
   "id": "8a957024",
   "metadata": {},
   "outputs": [],
   "source": [
    "import pandas_datareader.data as web\n",
    "import pandas as pd\n",
    "import datetime as dt\n",
    "import matplotlib.pyplot as plt\n",
    "from matplotlib import style\n",
    "import numpy as np"
   ]
  },
  {
   "cell_type": "code",
   "execution_count": 2,
   "id": "718461f6",
   "metadata": {},
   "outputs": [],
   "source": [
    "#pip install yfinance"
   ]
  },
  {
   "cell_type": "code",
   "execution_count": 3,
   "id": "aa58f920",
   "metadata": {},
   "outputs": [],
   "source": [
    "#pip install pandas-datareader"
   ]
  },
  {
   "cell_type": "code",
   "execution_count": 4,
   "id": "a06b3798",
   "metadata": {},
   "outputs": [],
   "source": [
    "style.use('ggplot')"
   ]
  },
  {
   "cell_type": "code",
   "execution_count": 5,
   "id": "6579a9ac",
   "metadata": {},
   "outputs": [],
   "source": [
    "start = dt.datetime(2010, 1, 3)\n",
    "end = dt.datetime(2021,11,20)"
   ]
  },
  {
   "cell_type": "code",
   "execution_count": 6,
   "id": "255e821d",
   "metadata": {},
   "outputs": [
    {
     "name": "stdout",
     "output_type": "stream",
     "text": [
      "                   High          Low         Open        Close      Volume  \\\n",
      "Date                                                                         \n",
      "2010-06-29     5.000000     3.508000     3.800000     4.778000  93831500.0   \n",
      "2010-06-30     6.084000     4.660000     5.158000     4.766000  85935500.0   \n",
      "2010-07-01     5.184000     4.054000     5.000000     4.392000  41094000.0   \n",
      "2010-07-02     4.620000     3.742000     4.600000     3.840000  25699000.0   \n",
      "2010-07-06     4.000000     3.166000     4.000000     3.222000  34334500.0   \n",
      "...                 ...          ...          ...          ...         ...   \n",
      "2021-11-15  1031.979980   978.599976  1017.630005  1013.390015  34775600.0   \n",
      "2021-11-16  1057.199951  1002.179993  1003.309998  1054.729980  26542400.0   \n",
      "2021-11-17  1119.640015  1055.500000  1063.510010  1089.010010  31445400.0   \n",
      "2021-11-18  1112.000000  1075.020020  1106.550049  1096.380005  20898900.0   \n",
      "2021-11-19  1138.719971  1092.699951  1098.869995  1137.060059  21642300.0   \n",
      "\n",
      "              Adj Close  \n",
      "Date                     \n",
      "2010-06-29     4.778000  \n",
      "2010-06-30     4.766000  \n",
      "2010-07-01     4.392000  \n",
      "2010-07-02     3.840000  \n",
      "2010-07-06     3.222000  \n",
      "...                 ...  \n",
      "2021-11-15  1013.390015  \n",
      "2021-11-16  1054.729980  \n",
      "2021-11-17  1089.010010  \n",
      "2021-11-18  1096.380005  \n",
      "2021-11-19  1137.060059  \n",
      "\n",
      "[2871 rows x 6 columns]\n"
     ]
    }
   ],
   "source": [
    "print(web.DataReader(\"TSLA\",'yahoo',start,end))"
   ]
  },
  {
   "cell_type": "code",
   "execution_count": null,
   "id": "0a16b690",
   "metadata": {},
   "outputs": [],
   "source": [
    "prices = web.DataReader(\"SPY\", 'yahoo', start, end)\n",
    "returns = prices.pct_change()"
   ]
  },
  {
   "cell_type": "code",
   "execution_count": null,
   "id": "b67f035f",
   "metadata": {},
   "outputs": [],
   "source": [
    "last_price = prices[:-1]"
   ]
  },
  {
   "cell_type": "code",
   "execution_count": null,
   "id": "856aaade",
   "metadata": {},
   "outputs": [],
   "source": [
    "prices.info()"
   ]
  },
  {
   "cell_type": "code",
   "execution_count": null,
   "id": "8e391bf3",
   "metadata": {},
   "outputs": [],
   "source": [
    "#Number of simulations\n",
    "num_simulations = 10\n",
    "num_days = 252"
   ]
  },
  {
   "cell_type": "code",
   "execution_count": null,
   "id": "293f5f1d",
   "metadata": {},
   "outputs": [],
   "source": [
    "simulation_df = pd.DataFrame()"
   ]
  },
  {
   "cell_type": "code",
   "execution_count": null,
   "id": "d0e3e389",
   "metadata": {},
   "outputs": [],
   "source": [
    "for x in range(num_simulations):\n",
    "    count = 0\n",
    "    daily_vol = returns.std()\n",
    "    \n",
    "    price_series = []\n",
    "    \n",
    "    price = last_price * (1 + np.random.normal(0, daily_vol))\n",
    "    price_series.append(price)\n",
    "    \n",
    "    for y in range(num_days):\n",
    "        if count == 251:\n",
    "               break\n",
    "        price = price_series[count] * (1 + np.random.normal(0, daily_vol))\n",
    "        price_series.append(price)\n",
    "        count =+ 1"
   ]
  },
  {
   "cell_type": "code",
   "execution_count": null,
   "id": "ef5ece08",
   "metadata": {},
   "outputs": [],
   "source": [
    "simulation_df[x] = price_series"
   ]
  },
  {
   "cell_type": "code",
   "execution_count": null,
   "id": "6fc81e87",
   "metadata": {},
   "outputs": [],
   "source": [
    "simulation_df.info()"
   ]
  },
  {
   "cell_type": "code",
   "execution_count": null,
   "id": "41b4f5dc",
   "metadata": {},
   "outputs": [],
   "source": [
    "simulation_df.info()"
   ]
  },
  {
   "cell_type": "code",
   "execution_count": null,
   "id": "391b32b1",
   "metadata": {},
   "outputs": [],
   "source": [
    "price[\"Open\"].plot()\n",
    "price[\"High\"].plot()\n",
    "price[\"Low\"].plot()\n",
    "price[\"Close\"].plot()\n",
    "fig = plt.gcf()\n",
    "fig.set_size_inches(15, 8)"
   ]
  },
  {
   "cell_type": "code",
   "execution_count": null,
   "id": "888fc9ad",
   "metadata": {},
   "outputs": [],
   "source": [
    "import pandas as pd\n",
    "from pandas_profiling import ProfileReport\n",
    "import matplotlib.pyplot as plt"
   ]
  },
  {
   "cell_type": "code",
   "execution_count": null,
   "id": "4eecad7f",
   "metadata": {},
   "outputs": [],
   "source": [
    "df = pd.read_csv('google_trends.csv',header = 1)"
   ]
  }
 ],
 "metadata": {
  "kernelspec": {
   "display_name": "Python 3",
   "language": "python",
   "name": "python3"
  },
  "language_info": {
   "codemirror_mode": {
    "name": "ipython",
    "version": 3
   },
   "file_extension": ".py",
   "mimetype": "text/x-python",
   "name": "python",
   "nbconvert_exporter": "python",
   "pygments_lexer": "ipython3",
   "version": "3.9.12"
  }
 },
 "nbformat": 4,
 "nbformat_minor": 5
}
